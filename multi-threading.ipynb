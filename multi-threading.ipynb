{
 "cells": [
  {
   "cell_type": "raw",
   "id": "f985f4b5-2273-4bfe-bdce-7ecb58fd55cc",
   "metadata": {},
   "source": [
    "Q1. what is multithreading in python? why is it used? Name the module used to handle threads in python"
   ]
  },
  {
   "cell_type": "raw",
   "id": "651618f0-13cb-43c9-a36c-e1d235a9e46b",
   "metadata": {},
   "source": [
    "Ans.Multithreading is defined as the ability of a processor to execute multiple threads concurrently. In a simple, single-core CPU, it is achieved using frequent switching between threads\n",
    "Python multithreading enables efficient utilization of the resources as the threads share the data space and memory. Multithreading in Python allows the concurrent and parallel occurrence of various tasks. It causes a reduction in time consumption or response time, thereby increasing the performance.\n",
    "name of module :import threading.\n"
   ]
  },
  {
   "cell_type": "raw",
   "id": "b9435420-265b-4030-9309-a6e99d310116",
   "metadata": {},
   "source": [
    "Q2.Why threading module used? write the use of the following functions - activeCount(),currentThread() and enumerate()"
   ]
  },
  {
   "cell_type": "raw",
   "id": "f4addf8f-de4c-42d4-9e4a-5a4fa802daca",
   "metadata": {},
   "source": [
    "Ans.Threading module is used for creating, controlling and managing threads in python.\n",
    "activeCount() − Returns the number of thread objects that are active.\n",
    "currentThread() − Returns the number of thread objects in the caller's thread control.\n",
    "enumerate() − Returns a list of all thread objects that are currently active."
   ]
  },
  {
   "cell_type": "raw",
   "id": "8f04a4ff-35c2-44dc-9693-86725b254e83",
   "metadata": {},
   "source": [
    "Q3. Explain the following functions -run(),start(),join(),isAlive()"
   ]
  },
  {
   "cell_type": "raw",
   "id": "0cc3f61f-f5f0-43ac-b928-8b5e6092a8c2",
   "metadata": {},
   "source": [
    "Ans.\n",
    "run() − The run() method is the entry point for a thread.\n",
    "start() − The start() method starts a thread by calling the run method.\n",
    "join() − The join() waits for threads to terminate.\n",
    "isAlive() − The isAlive() method checks whether a thread is still executing."
   ]
  },
  {
   "cell_type": "raw",
   "id": "3f558a84-99f7-4533-888e-e3070969cfe1",
   "metadata": {},
   "source": [
    "Q4. write a python program to create two threads. Thread one must print the list of squares and thread\n",
    "two must print the list of cubes"
   ]
  },
  {
   "cell_type": "code",
   "execution_count": 2,
   "id": "95b5cb59-334b-4e4d-ba7f-255147c51397",
   "metadata": {},
   "outputs": [
    {
     "name": "stdout",
     "output_type": "stream",
     "text": [
      "cube of the number is : 125\n",
      "square of number is : 25\n"
     ]
    }
   ],
   "source": [
    "import threading\n",
    "\n",
    "def cube(num):\n",
    "    print(\"cube of the number is : {}\".format(num*num*num))\n",
    "\n",
    "def square(num):\n",
    "    print(\"square of number is : {}\".format(num**2))\n",
    "    \n",
    "if __name__==\"__main__\":\n",
    "    t1= threading.Thread(target=cube , args=(5,))\n",
    "    t2= threading.Thread(target=square, args=(5,))\n",
    "    t1.start()\n",
    "    t2.start()\n",
    "    t1.join()\n",
    "    t2.join()"
   ]
  },
  {
   "cell_type": "raw",
   "id": "a8793fde-e0ba-48a3-ab60-bb07c6f1e2ad",
   "metadata": {},
   "source": [
    "Q5. State advantages and disadvantages of multithreading"
   ]
  },
  {
   "cell_type": "raw",
   "id": "4b1a9e4b-b592-4fce-ae5a-67fa8676f680",
   "metadata": {},
   "source": [
    "Ans.\n",
    "Advantages:\n",
    "1.Multithreading in an interactive application enables a program to continue running even if a section is blocked or executing a lengthy process, increasing user responsiveness.\n",
    "2. Resource Sharing\n",
    "3. Economy Because threads share a memory with the process to which they belong, establishing and context switching threads is more cost-effective.\n",
    "4. Scalability\n",
    "5. Better Communication\n",
    "6. Utilization of multiprocessor architecture\n",
    "\n",
    "Disadvantages: \n",
    "1.It needs more careful synchronization.\n",
    "2.It can consume a large space of stocks of blocked threads.\n",
    "3.It needs support for thread or process.\n",
    "4.If a parent process has several threads for proper process functioning, the child processes should also be multithreaded because they may be required.\n",
    "5.It imposes context switching overhead.\n"
   ]
  },
  {
   "cell_type": "raw",
   "id": "3690848e-e99e-42fa-85ed-549cc79df3cd",
   "metadata": {},
   "source": [
    "Q6. Explain deadlocks and race conditions."
   ]
  },
  {
   "cell_type": "raw",
   "id": "eaf8abc5-0fb7-4eb5-9752-50e30b8c53bd",
   "metadata": {},
   "source": [
    "Ans. Deadlock:\n",
    "A deadlock is a concurrency failure mode where a thread or threads wait for a condition that never occurs. The result is that the deadlock threads are unable to progress and the program is stuck or frozen and must be terminated forcefully.\n",
    "Race condition:\n",
    "Race condition occurs when multiple threads read and write the same variable i.e. they have access to some shared data and they try to change it at the same time. In such a scenario threads are “racing” each other to access/change the data."
   ]
  }
 ],
 "metadata": {
  "kernelspec": {
   "display_name": "Python 3 (ipykernel)",
   "language": "python",
   "name": "python3"
  },
  "language_info": {
   "codemirror_mode": {
    "name": "ipython",
    "version": 3
   },
   "file_extension": ".py",
   "mimetype": "text/x-python",
   "name": "python",
   "nbconvert_exporter": "python",
   "pygments_lexer": "ipython3",
   "version": "3.10.8"
  }
 },
 "nbformat": 4,
 "nbformat_minor": 5
}
